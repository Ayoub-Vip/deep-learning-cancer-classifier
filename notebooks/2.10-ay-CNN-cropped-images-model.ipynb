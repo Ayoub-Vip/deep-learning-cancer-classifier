{
 "cells": [
  {
   "cell_type": "code",
   "execution_count": 1,
   "metadata": {},
   "outputs": [],
   "source": [
    "import os\n",
    "import sys\n",
    "import torch\n",
    "import torchvision\n",
    "import torch.nn as nn\n",
    "import torch.nn.functional as F\n",
    "import torch.utils.data as tdata\n",
    "import numpy as np\n",
    "from tqdm import tqdm\n",
    "import cv2\n",
    "import wandb"
   ]
  },
  {
   "cell_type": "code",
   "execution_count": 2,
   "metadata": {},
   "outputs": [
    {
     "name": "stderr",
     "output_type": "stream",
     "text": [
      "\u001b[32m2025-05-18 20:41:39.458\u001b[0m | \u001b[1mINFO    \u001b[0m | \u001b[36mcancer_classifier.config\u001b[0m:\u001b[36m<module>\u001b[0m:\u001b[36m11\u001b[0m - \u001b[1mPROJ_ROOT path is: /home/ayoubvip/deep-learning-cancer-classifier\u001b[0m\n"
     ]
    }
   ],
   "source": [
    "sys.path.append(os.path.abspath(os.path.join(os.getcwd(), \"..\")))\n",
    "\n",
    "from cancer_classifier.config import MODELS_DIR, RAW_DATA_DIR, PROCESSED_DATA_DIR, INTERIM_DATA_DIR, EXTERNAL_DATA_DIR, CLASSES\n",
    "from cancer_classifier.processing.image_utils import adjust_image_contrast, resize_image_tensor, normalize_image_tensor, augment_image_tensor, process_dataset, save_processed_images, crop_image\n",
    "from cancer_classifier.processing.dataset_loader import BrainTumorDataset, preprocess_images, unnormalize\n",
    "\n",
    "%load_ext autoreload\n",
    "%autoreload 2"
   ]
  },
  {
   "cell_type": "code",
   "execution_count": 3,
   "metadata": {},
   "outputs": [
    {
     "name": "stdout",
     "output_type": "stream",
     "text": [
      "Using device: cuda\n"
     ]
    }
   ],
   "source": [
    "device = torch.device('cuda' if torch.cuda.is_available() else 'cpu')\n",
    "# device = torch.accelerator.current_accelerator().type if torch.accelerator.is_available() else \"cpu\"\n",
    "print(f\"Using device: {device}\")"
   ]
  },
  {
   "cell_type": "markdown",
   "metadata": {},
   "source": [
    "## Data Preprocessing"
   ]
  },
  {
   "cell_type": "markdown",
   "metadata": {},
   "source": [
    "### data crop and contract equilazing"
   ]
  },
  {
   "cell_type": "code",
   "execution_count": 4,
   "metadata": {},
   "outputs": [],
   "source": [
    "img_size = (256, 256)\n",
    "clip_limit = 2.0\n",
    "tile_size = (1,1)\n",
    "\n",
    "# preprocess_images(src_dir=RAW_DATA_DIR, dist_dir=PROCESSED_DATA_DIR,img_size=img_size, clip_limit=clip_limit, tile_size=tile_size)"
   ]
  },
  {
   "cell_type": "code",
   "execution_count": 5,
   "metadata": {},
   "outputs": [],
   "source": [
    "img_size = (256, 256)\n",
    "batch_nbr = 16\n",
    "train_ratio = 0.80\n",
    "test_ratio = 0.10\n",
    "val_ratio = 0.10"
   ]
  },
  {
   "cell_type": "markdown",
   "metadata": {},
   "source": [
    "### data augmentation"
   ]
  },
  {
   "cell_type": "code",
   "execution_count": 6,
   "metadata": {},
   "outputs": [
    {
     "name": "stdout",
     "output_type": "stream",
     "text": [
      "{'brain_glioma': 0, 'brain_menin': 1, 'brain_tumor': 2}\n"
     ]
    }
   ],
   "source": [
    "transformers = torchvision.transforms.Compose([\n",
    "    torchvision.transforms.Grayscale(num_output_channels=1),\n",
    "    torchvision.transforms.Resize(size=img_size),\n",
    "    torchvision.transforms.RandomHorizontalFlip(),\n",
    "    torchvision.transforms.RandomVerticalFlip(),\n",
    "    torchvision.transforms.RandomRotation(10),\n",
    "    # torchvision.transforms.RandomResizedCrop(size=img_size, scale=(0.8, 1.0)),  #as images are cropped out from surounding black space  to contains only ROI \n",
    "    torchvision.transforms.ToTensor(),\n",
    "    torchvision.transforms.Normalize(mean=[0.5], std=[0.5])\n",
    "])\n",
    "\n",
    "Dataset = BrainTumorDataset(\n",
    "    root_dir=PROCESSED_DATA_DIR,\n",
    "    transform=transformers\n",
    ")\n",
    "\n",
    "print(Dataset.class_to_idx)\n",
    "img_size = (256, 256)\n",
    "clip_limit = 2.0\n",
    "tile_size = (1,1)\n",
    "\n",
    "# preprocess_images(src_dir=RAW_DATA_DIR, dist_dir=PROCESSED_DATA_DIR,img_size=img_size, clip_limit=clip_limit, tile_size=tile_size)"
   ]
  },
  {
   "cell_type": "markdown",
   "metadata": {},
   "source": [
    "### data spliting "
   ]
  },
  {
   "cell_type": "code",
   "execution_count": 7,
   "metadata": {},
   "outputs": [],
   "source": [
    "batch_nbr = 16\n",
    "train_ratio = 0.80\n",
    "test_ratio = 0.10\n",
    "val_ratio = 0.10\n",
    "\n",
    "train_loader, val_loader, test_loader = Dataset.get_dataloaders(\n",
    "    batch_size=batch_nbr,\n",
    "    train_ratio=train_ratio,\n",
    "    val_ratio=val_ratio\n",
    ")"
   ]
  },
  {
   "cell_type": "markdown",
   "metadata": {},
   "source": [
    "# Model Architecture: CNN"
   ]
  },
  {
   "cell_type": "code",
   "execution_count": 8,
   "metadata": {},
   "outputs": [],
   "source": [
    "def conv_block(out_channels, kernel_size=3,\n",
    "                stride=1, padding=1, pool_kernel_size=2,\n",
    "                pool_stride=2, dropout_prob=0.2):\n",
    "    return nn.Sequential(\n",
    "        nn.LazyConv2d(out_channels, kernel_size, stride, padding),\n",
    "        nn.BatchNorm2d(out_channels),\n",
    "        nn.ReLU(inplace=True),\n",
    "        nn.Dropout2d(p=dropout_prob),\n",
    "        nn.MaxPool2d(pool_kernel_size, pool_stride)\n",
    "    )"
   ]
  },
  {
   "cell_type": "code",
   "execution_count": 9,
   "metadata": {},
   "outputs": [],
   "source": [
    "fc_dropout_prob = 0.3\n",
    "class CNNModel(nn.Module):\n",
    "  def __init__(self, num_classes=CLASSES):\n",
    "    super(CNNModel, self).__init__()\n",
    "    \n",
    "    self.conv_net = nn.Sequential(\n",
    "        conv_block(64, 3),\n",
    "        conv_block(128, 5),\n",
    "        conv_block(256, 5),\n",
    "        conv_block(512, 3, 2)  \n",
    "    )\n",
    "    \n",
    "    self.fc_layers = nn.Sequential(\n",
    "           nn.Dropout(fc_dropout_prob),\n",
    "           nn.LazyLinear(512),\n",
    "           nn.ReLU(inplace=True),\n",
    "           nn.Linear(512, num_classes)\n",
    "        )\n",
    "\n",
    "  def forward(self, x):\n",
    "    x = self.conv_net(x)\n",
    "\n",
    "    x = torch.flatten(x, 1)\n",
    "\n",
    "    x = self.fc_layers(x)\n",
    "\n",
    "    return x\n"
   ]
  },
  {
   "cell_type": "code",
   "execution_count": 10,
   "metadata": {},
   "outputs": [],
   "source": [
    "CNN_model = CNNModel(num_classes=len(CLASSES)).to(device)\n",
    "# print(CNN_model)"
   ]
  },
  {
   "cell_type": "markdown",
   "metadata": {},
   "source": [
    "## Training the model"
   ]
  },
  {
   "cell_type": "markdown",
   "metadata": {},
   "source": [
    "### defining Loss function, Optimization method, and training parameters"
   ]
  },
  {
   "cell_type": "code",
   "execution_count": 11,
   "metadata": {},
   "outputs": [],
   "source": [
    "loss_fn = nn.CrossEntropyLoss()\n",
    "weights_decay = 0.0001\n",
    "learning_rate = 0.0001\n",
    "epochs = 10\n",
    "\n",
    "# optimizer = torch.optim.Adam(\n",
    "#     CNN_model.parameters(),\n",
    "#     lr=learning_rate,\n",
    "#     weight_decay=weights_decay\n",
    "# ) #->70%\n",
    "\n",
    "optimizer = torch.optim.AdamW(\n",
    "    CNN_model.parameters(),\n",
    "    lr=learning_rate,\n",
    "    weight_decay=weights_decay\n",
    ") #->77.4\n",
    "\n",
    "# optimizer = torch.optim.SGD(\n",
    "#     CNN_model.parameters(),\n",
    "#     lr=learning_rate,\n",
    "#     weight_decay=weights_decay\n",
    "# ) #> 77.5"
   ]
  },
  {
   "cell_type": "code",
   "execution_count": 12,
   "metadata": {},
   "outputs": [],
   "source": [
    "def test_loop(dataloader, model, loss_fn, epoch=0):\n",
    "    # Set the model to evaluation mode - important for batch normalization and dropout layers\n",
    "    # Unnecessary in this situation but added for best practices\n",
    "    model.eval()\n",
    "    size = len(dataloader.dataset)\n",
    "    num_batches = len(dataloader)\n",
    "    test_loss, correct = 0, 0\n",
    "    true_labels = []\n",
    "    pred_labels = []\n",
    "    # Evaluating the model with torch.no_grad() ensures that no gradients are computed during test mode\n",
    "    # also serves to reduce unnecessary gradient computations and memory usage for tensors with requires_grad=True\n",
    "    with torch.no_grad():\n",
    "        for X, y in dataloader:\n",
    "            X = X.to(device)\n",
    "            y = y.to(device)\n",
    "            pred = model(X)\n",
    "            test_loss += loss_fn(pred, y).item()\n",
    "            correct += (pred.argmax(1) == y).type(torch.float).sum().item()\n",
    "            true_labels.extend(y.cpu().numpy())\n",
    "            pred_labels.extend(pred.argmax(1).cpu().numpy())\n",
    "\n",
    "    test_loss /= num_batches\n",
    "    correct /= size\n",
    "    print(f\"Test Error: \\n Accuracy: {(100*correct):>0.1f}%, Avg loss: {test_loss:>8f} \\n\")\n",
    "    # wandb.log({\"epoch\": epoch,\"accuracy\": f\"{(100*correct):>0.1f}\", \"test_loss\": test_loss})\n",
    "\n",
    "    return true_labels, pred_labels, correct, test_loss"
   ]
  },
  {
   "cell_type": "code",
   "execution_count": 13,
   "metadata": {},
   "outputs": [
    {
     "name": "stderr",
     "output_type": "stream",
     "text": [
      "\r",
      "  0%|          | 0/10 [00:00<?, ?it/s]"
     ]
    },
    {
     "name": "stdout",
     "output_type": "stream",
     "text": [
      "----------------- EPOCH 0------------------\n",
      "loss: 1.083032  [   16/ 4845]\n",
      "loss: 0.582106  [ 1616/ 4845]\n",
      "loss: 0.626644  [ 3216/ 4845]\n",
      "loss: 0.664881  [ 4816/ 4845]\n"
     ]
    },
    {
     "name": "stderr",
     "output_type": "stream",
     "text": [
      "\r",
      " 10%|█         | 1/10 [00:20<03:06, 20.72s/it]"
     ]
    },
    {
     "name": "stdout",
     "output_type": "stream",
     "text": [
      "Test Error: \n",
      " Accuracy: 74.5%, Avg loss: 0.580576 \n",
      "\n",
      "----------------- EPOCH 1------------------\n",
      "loss: 0.378681  [   16/ 4845]\n",
      "loss: 0.438596  [ 1616/ 4845]\n",
      "loss: 0.311683  [ 3216/ 4845]\n",
      "loss: 0.474514  [ 4816/ 4845]\n"
     ]
    },
    {
     "name": "stderr",
     "output_type": "stream",
     "text": [
      "\r",
      " 20%|██        | 2/10 [00:40<02:39, 19.99s/it]"
     ]
    },
    {
     "name": "stdout",
     "output_type": "stream",
     "text": [
      "Test Error: \n",
      " Accuracy: 84.6%, Avg loss: 0.395305 \n",
      "\n",
      "----------------- EPOCH 2------------------\n",
      "loss: 0.335608  [   16/ 4845]\n",
      "loss: 0.170737  [ 1616/ 4845]\n",
      "loss: 0.423573  [ 3216/ 4845]\n",
      "loss: 0.393169  [ 4816/ 4845]\n"
     ]
    },
    {
     "name": "stderr",
     "output_type": "stream",
     "text": [
      "\r",
      " 30%|███       | 3/10 [00:59<02:18, 19.77s/it]"
     ]
    },
    {
     "name": "stdout",
     "output_type": "stream",
     "text": [
      "Test Error: \n",
      " Accuracy: 89.3%, Avg loss: 0.299183 \n",
      "\n",
      "----------------- EPOCH 3------------------\n",
      "loss: 0.473546  [   16/ 4845]\n",
      "loss: 0.689108  [ 1616/ 4845]\n",
      "loss: 0.257277  [ 3216/ 4845]\n",
      "loss: 0.233278  [ 4816/ 4845]\n"
     ]
    },
    {
     "name": "stderr",
     "output_type": "stream",
     "text": [
      "\r",
      " 40%|████      | 4/10 [01:19<01:58, 19.70s/it]"
     ]
    },
    {
     "name": "stdout",
     "output_type": "stream",
     "text": [
      "Test Error: \n",
      " Accuracy: 88.9%, Avg loss: 0.272825 \n",
      "\n",
      "----------------- EPOCH 4------------------\n",
      "loss: 0.406786  [   16/ 4845]\n",
      "loss: 0.177311  [ 1616/ 4845]\n",
      "loss: 0.333519  [ 3216/ 4845]\n",
      "loss: 0.367923  [ 4816/ 4845]\n"
     ]
    },
    {
     "name": "stderr",
     "output_type": "stream",
     "text": [
      "\r",
      " 50%|█████     | 5/10 [01:39<01:38, 19.70s/it]"
     ]
    },
    {
     "name": "stdout",
     "output_type": "stream",
     "text": [
      "Test Error: \n",
      " Accuracy: 91.6%, Avg loss: 0.241013 \n",
      "\n",
      "----------------- EPOCH 5------------------\n",
      "loss: 0.147804  [   16/ 4845]\n",
      "loss: 0.185878  [ 1616/ 4845]\n",
      "loss: 0.224519  [ 3216/ 4845]\n",
      "loss: 0.327258  [ 4816/ 4845]\n"
     ]
    },
    {
     "name": "stderr",
     "output_type": "stream",
     "text": [
      "\r",
      " 60%|██████    | 6/10 [01:58<01:18, 19.61s/it]"
     ]
    },
    {
     "name": "stdout",
     "output_type": "stream",
     "text": [
      "Test Error: \n",
      " Accuracy: 90.2%, Avg loss: 0.251558 \n",
      "\n",
      "----------------- EPOCH 6------------------\n",
      "loss: 0.322536  [   16/ 4845]\n",
      "loss: 0.312409  [ 1616/ 4845]\n",
      "loss: 0.160006  [ 3216/ 4845]\n",
      "loss: 0.181471  [ 4816/ 4845]\n"
     ]
    },
    {
     "name": "stderr",
     "output_type": "stream",
     "text": [
      "\r",
      " 70%|███████   | 7/10 [02:17<00:58, 19.51s/it]"
     ]
    },
    {
     "name": "stdout",
     "output_type": "stream",
     "text": [
      "Test Error: \n",
      " Accuracy: 92.1%, Avg loss: 0.206151 \n",
      "\n",
      "----------------- EPOCH 7------------------\n",
      "loss: 0.179623  [   16/ 4845]\n",
      "loss: 0.255468  [ 1616/ 4845]\n",
      "loss: 0.400564  [ 3216/ 4845]\n",
      "loss: 0.124772  [ 4816/ 4845]\n"
     ]
    },
    {
     "name": "stderr",
     "output_type": "stream",
     "text": [
      "\r",
      " 80%|████████  | 8/10 [02:37<00:39, 19.61s/it]"
     ]
    },
    {
     "name": "stdout",
     "output_type": "stream",
     "text": [
      "Test Error: \n",
      " Accuracy: 89.3%, Avg loss: 0.285773 \n",
      "\n",
      "----------------- EPOCH 8------------------\n",
      "loss: 0.473459  [   16/ 4845]\n",
      "loss: 0.804975  [ 1616/ 4845]\n",
      "loss: 0.243887  [ 3216/ 4845]\n",
      "loss: 0.236844  [ 4816/ 4845]\n"
     ]
    },
    {
     "name": "stderr",
     "output_type": "stream",
     "text": [
      "\r",
      " 90%|█████████ | 9/10 [02:57<00:19, 19.56s/it]"
     ]
    },
    {
     "name": "stdout",
     "output_type": "stream",
     "text": [
      "Test Error: \n",
      " Accuracy: 93.7%, Avg loss: 0.162301 \n",
      "\n",
      "----------------- EPOCH 9------------------\n",
      "loss: 0.145777  [   16/ 4845]\n",
      "loss: 0.089345  [ 1616/ 4845]\n",
      "loss: 0.080732  [ 3216/ 4845]\n",
      "loss: 0.172020  [ 4816/ 4845]\n"
     ]
    },
    {
     "name": "stderr",
     "output_type": "stream",
     "text": [
      "100%|██████████| 10/10 [03:16<00:00, 19.68s/it]"
     ]
    },
    {
     "name": "stdout",
     "output_type": "stream",
     "text": [
      "Test Error: \n",
      " Accuracy: 93.9%, Avg loss: 0.156388 \n",
      "\n"
     ]
    },
    {
     "name": "stderr",
     "output_type": "stream",
     "text": [
      "\n"
     ]
    }
   ],
   "source": [
    "from cancer_classifier.modeling.train import train\n",
    "# import evaluate from cancer_classifier.modeling.evaluate as evaluate\n",
    "def train_loop(dataloader, model, loss_fn, optimizer, epoch):\n",
    "    size = len(dataloader.dataset)\n",
    "    # Set the model to training mode - important for batch normalization and dropout layers\n",
    "    # Unnecessary in this situation but added for best practices\n",
    "    model.train()\n",
    "    for batch, (X, y) in enumerate(dataloader):\n",
    "        # Compute prediction and loss\n",
    "        X = X.to(device)\n",
    "        y = y.to(device) \n",
    "        pred = model(X)\n",
    "        loss = loss_fn(pred, y)\n",
    "\n",
    "        # Backpropagation\n",
    "        loss.backward()\n",
    "        optimizer.step()\n",
    "        optimizer.zero_grad()\n",
    "\n",
    "        if batch % 100 == 0:\n",
    "            loss, current = loss.item(), batch * batch_nbr + len(X)\n",
    "            # wandb.log({\"step\":  f\"{current:>5d}/{size:>5d}\", \"train_loss\": loss})\n",
    "            print(f\"loss: {loss:>7f}  [{current:>5d}/{size:>5d}]\")\n",
    "\n",
    "            \n",
    "\n",
    "for epoch in tqdm(range(epochs)):\n",
    "    print(\"----------------- EPOCH \" + str(epoch) + \"------------------\")\n",
    "    train_loop(\n",
    "        dataloader=train_loader,\n",
    "        model=CNN_model,\n",
    "        loss_fn=loss_fn,\n",
    "        optimizer=optimizer,\n",
    "        epoch=epoch\n",
    "        )\n",
    "    true_labels, pred_labels, correct, test_loss =  test_loop(\n",
    "        dataloader=val_loader,\n",
    "        model=CNN_model,\n",
    "        loss_fn=loss_fn,\n",
    "        epoch=epoch\n",
    "    )"
   ]
  },
  {
   "cell_type": "code",
   "execution_count": null,
   "metadata": {},
   "outputs": [],
   "source": []
  },
  {
   "cell_type": "code",
   "execution_count": 16,
   "metadata": {},
   "outputs": [
    {
     "name": "stdout",
     "output_type": "stream",
     "text": [
      "Test Error: \n",
      " Accuracy: 95.5%, Avg loss: 0.121825 \n",
      "\n"
     ]
    }
   ],
   "source": [
    "true_labels, pred_labels, correct, test_loss =  test_loop(\n",
    "    dataloader=val_loader,\n",
    "    model=CNN_model,\n",
    "    loss_fn=loss_fn\n",
    ")"
   ]
  },
  {
   "cell_type": "markdown",
   "metadata": {},
   "source": [
    "## Evaluating the model"
   ]
  },
  {
   "cell_type": "markdown",
   "metadata": {},
   "source": [
    "### Covariance Matrix"
   ]
  },
  {
   "cell_type": "code",
   "execution_count": 19,
   "metadata": {},
   "outputs": [
    {
     "data": {
      "image/png": "[encoded data removed]",
      "text/plain": [
       "<Figure size 800x800 with 2 Axes>"
      ]
     },
     "metadata": {},
     "output_type": "display_data"
    }
   ],
   "source": [
    "from cancer_classifier.plots import visualize_sample_images,  plot_confusion_matrix\n",
    "import time\n",
    "\n",
    "# visualize_sample_images(\n",
    "#     dataset=Dataset,\n",
    "# )\n",
    "plot_confusion_matrix(\n",
    "    true_classes=true_labels,\n",
    "    predicted_classes=pred_labels,\n",
    "    model_name =  time.strftime(\"%Y-%m-%d_%H-%M-%S\") + \"_CNN_model_cropped_image\" + f\"{(100*correct):>0.1f}%\"\n",
    ")"
   ]
  },
  {
   "cell_type": "markdown",
   "metadata": {},
   "source": [
    "### serializing the model"
   ]
  },
  {
   "cell_type": "code",
   "execution_count": 20,
   "metadata": {},
   "outputs": [
    {
     "name": "stdout",
     "output_type": "stream",
     "text": [
      "Saved PyTorch Model State to 95.5%--2025-05-18_20-45-36_CNN_model_corped_images.pth\n"
     ]
    }
   ],
   "source": [
    "import time\n",
    "model_name = f\"{(100*correct):>0.1f}%--\" + time.strftime(\"%Y-%m-%d_%H-%M-%S\") + \"_CNN_model_corped_images.pth\"\n",
    "torch.save(CNN_model.state_dict(), MODELS_DIR / model_name)\n",
    "print(\"Saved PyTorch Model State to \" +  model_name)"
   ]
  },
  {
   "cell_type": "code",
   "execution_count": null,
   "metadata": {},
   "outputs": [],
   "source": []
  },
  {
   "cell_type": "code",
   "execution_count": null,
   "metadata": {},
   "outputs": [],
   "source": []
  },
  {
   "cell_type": "code",
   "execution_count": null,
   "metadata": {},
   "outputs": [],
   "source": []
  }
 ],
 "metadata": {
  "kernelspec": {
   "display_name": "Python [conda env:root]",
   "language": "python",
   "name": "conda-root-py"
  },
  "language_info": {
   "codemirror_mode": {
    "name": "ipython",
    "version": 3
   },
   "file_extension": ".py",
   "mimetype": "text/x-python",
   "name": "python",
   "nbconvert_exporter": "python",
   "pygments_lexer": "ipython3",
   "version": "3.11.11"
  }
 },
 "nbformat": 4,
 "nbformat_minor": 5
}
