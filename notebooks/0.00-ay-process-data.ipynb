{
 "cells": [
  {
   "cell_type": "code",
   "execution_count": null,
   "id": "eec417f8",
   "metadata": {},
   "outputs": [],
   "source": [
    "import os\n",
    "import sys\n",
    "import torch\n",
    "import torchvision\n",
    "import torch.nn as nn\n",
    "import torch.nn.functional as F\n",
    "import torch.utils.data as tdata\n",
    "import numpy as np\n",
    "from tqdm import tqdm\n",
    "import cv2"
   ]
  },
  {
   "cell_type": "code",
   "execution_count": null,
   "id": "d008eb7e",
   "metadata": {},
   "outputs": [],
   "source": [
    "sys.path.append(os.path.abspath(os.path.join(os.getcwd(), \"..\")))\n",
    "\n",
    "from cancer_classifier.config import MODELS_DIR, RAW_DATA_DIR, PROCESSED_DATA_DIR, INTERIM_DATA_DIR, CLASSES\n",
    "from cancer_classifier.processing.image_utils import adjust_image_contrast, resize_image_tensor, normalize_image_tensor, augment_image_tensor, process_dataset, save_processed_images, crop_image\n",
    "\n",
    "%load_ext autoreload\n",
    "%autoreload 2"
   ]
  },
  {
   "cell_type": "code",
   "execution_count": null,
   "id": "5aace3db",
   "metadata": {},
   "outputs": [],
   "source": [
    "device = torch.device('cuda' if torch.cuda.is_available() else 'cpu')\n",
    "# device = torch.accelerator.current_accelerator().type if torch.accelerator.is_available() else \"cpu\"\n",
    "print(f\"Using device: {device}\")"
   ]
  },
  {
   "cell_type": "markdown",
   "id": "5198dcea",
   "metadata": {},
   "source": [
    "## Data Preprocessing"
   ]
  },
  {
   "cell_type": "markdown",
   "id": "b93b1bfd",
   "metadata": {},
   "source": [
    "### data crop and contract equilazing"
   ]
  },
  {
   "cell_type": "code",
   "execution_count": null,
   "id": "19ff5f2d",
   "metadata": {},
   "outputs": [],
   "source": [
    "for i, cls in enumerate(CLASSES):\n",
    "    cls_dir = os.path.join(RAW_DATA_DIR, cls)\n",
    "    for img_name in os.listdir(cls_dir):\n",
    "        img_path = os.path.join(cls_dir, img_name)\n",
    "        img = crop_image(img_path)\n",
    "        # img = adjust_image_contrast(img)\n",
    "\n",
    "        # save in processed directory\n",
    "        cv2.imwrite(os.path.join(INTERIM_DATA_DIR, cls, img_name), img)\n",
    "        # save_processed_images(img_tensor, os.path.join(PROCESSED_DATA_DIR, cls), img_name)"
   ]
  },
  {
   "cell_type": "code",
   "execution_count": null,
   "id": "693adbf6",
   "metadata": {},
   "outputs": [],
   "source": [
    "img_size = (256, 256)\n",
    "batch_nbr = 16\n",
    "train_ratio = 0.80\n",
    "test_ratio = 0.10\n",
    "val_ratio = 0.10"
   ]
  },
  {
   "cell_type": "markdown",
   "id": "36468fd1",
   "metadata": {},
   "source": [
    "### data augmentation"
   ]
  },
  {
   "cell_type": "code",
   "execution_count": 39,
   "id": "94dc728e",
   "metadata": {},
   "outputs": [],
   "source": [
    "transformers = torchvision.transforms.Compose([\n",
    "    torchvision.transforms.Grayscale(num_output_channels=1),\n",
    "    torchvision.transforms.Resize(size=img_size),\n",
    "    torchvision.transforms.RandomHorizontalFlip(),\n",
    "    torchvision.transforms.RandomVerticalFlip(),\n",
    "    torchvision.transforms.RandomRotation(10),\n",
    "    # torchvision.transforms.ColorJitter(brightness=0.2, contrast=0.2, saturation=0.2, hue=0.1),\n",
    "    torchvision.transforms.RandomResizedCrop(size=img_size, scale=(0.8, 1.0)),\n",
    "    torchvision.transforms.ToTensor(),\n",
    "    torchvision.transforms.Normalize(mean=[0.5], std=[0.5])\n",
    "])\n",
    "\n",
    "dataset = torchvision.datasets.ImageFolder(root=RAW_DATA_DIR, transform=transformers, target_transform=None)"
   ]
  },
  {
   "cell_type": "markdown",
   "id": "41a5f21d",
   "metadata": {},
   "source": [
    "### data spliting "
   ]
  },
  {
   "cell_type": "code",
   "execution_count": 40,
   "id": "62f55156",
   "metadata": {},
   "outputs": [
    {
     "name": "stdout",
     "output_type": "stream",
     "text": [
      "Train dataset class distribution: {'2': 1640, '1': 1601, '0': 1604}\n",
      "Validation dataset class distribution: {'1': 211, '2': 209, '0': 186}\n",
      "Test dataset class distribution: {'0': 214, '2': 199, '1': 192}\n"
     ]
    }
   ],
   "source": [
    "rand_gen = torch.Generator().manual_seed(142)\n",
    "train_dataset, val_dataset, test_dataset = tdata.random_split(\n",
    "    dataset = dataset,\n",
    "    lengths=[train_ratio, val_ratio, test_ratio],\n",
    "    generator=rand_gen\n",
    ")\n",
    "\n",
    "train_loader = tdata.DataLoader(\n",
    "    dataset=train_dataset,\n",
    "    batch_size=batch_nbr,\n",
    "    shuffle=True,\n",
    "    num_workers=4,\n",
    "    pin_memory=True\n",
    ")\n",
    "val_loader = tdata.DataLoader(\n",
    "    dataset=val_dataset,\n",
    "    batch_size=batch_nbr,\n",
    "    shuffle=False,\n",
    "    num_workers=4,\n",
    "    pin_memory=True\n",
    ")\n",
    "test_loader = tdata.DataLoader(\n",
    "    dataset=test_dataset,\n",
    "    batch_size=batch_nbr,\n",
    "    shuffle=False,\n",
    "    num_workers=4,\n",
    "    pin_memory=True\n",
    ")\n",
    "def get_class_distribution(dataset):\n",
    "    class_distribution = {}\n",
    "    for _, label in dataset:\n",
    "        if label.__str__() not in class_distribution:\n",
    "            class_distribution[label.__str__()] = 0\n",
    "        class_distribution[label.__str__()] += 1\n",
    "    return class_distribution\n",
    "\n",
    "print(\"Train dataset class distribution:\", get_class_distribution(train_dataset))\n",
    "print(\"Validation dataset class distribution:\", get_class_distribution(val_dataset))\n",
    "print(\"Test dataset class distribution:\", get_class_distribution(test_dataset))"
   ]
  },
  {
   "cell_type": "markdown",
   "id": "d0d2898a",
   "metadata": {},
   "source": [
    "# Model Architecture: CNN"
   ]
  },
  {
   "cell_type": "code",
   "execution_count": 41,
   "id": "8bec4a91",
   "metadata": {},
   "outputs": [],
   "source": [
    "def conv_block(in_channels, out_channels, kernel_size=3,\n",
    "                stride=1, padding=1, pool_kernel_size=2,\n",
    "                pool_stride=2, dropout_prob=0.2):\n",
    "    return nn.Sequential(\n",
    "        nn.Conv2d(in_channels, out_channels, kernel_size, stride, padding),\n",
    "        nn.BatchNorm2d(out_channels),\n",
    "        nn.ReLU(inplace=True),\n",
    "        nn.Dropout2d(p=dropout_prob),\n",
    "        nn.MaxPool2d(pool_kernel_size, pool_stride)\n",
    "    )"
   ]
  },
  {
   "cell_type": "code",
   "execution_count": 42,
   "id": "59e2c87e",
   "metadata": {},
   "outputs": [],
   "source": [
    "class CNNModel(nn.Module):\n",
    "  def __init__(self, num_classes=3):\n",
    "    super(CNNModel, self).__init__()\n",
    "\n",
    "    self.conv_block1 = conv_block(1, 64)\n",
    "    self.conv_block2 = conv_block(64, 128)\n",
    "    self.conv_block3 = conv_block(128, 256)\n",
    "    self.conv_block4 = conv_block(256, 512)\n",
    "\n",
    "    dummy_input = torch.randn(1, 1, 256, 256) # Sadece bir görsel için çıkış boyutu hesaplar\n",
    "    dummy_output = self.conv_block4(self.conv_block3(self.conv_block2(self.conv_block1(dummy_input))))\n",
    "\n",
    "    flattened_size = torch.flatten(dummy_output, 1).size(1)\n",
    "\n",
    "    print(f'the full architecture parameters size: {flattened_size}')\n",
    "\n",
    "    self.fc_layers = nn.Sequential(\n",
    "           nn.Dropout(0.3),\n",
    "           nn.Linear(flattened_size, 512), # Hesaplanan boyutu kullan\n",
    "           nn.ReLU(inplace=True),\n",
    "           nn.Linear(512, num_classes)\n",
    "        )\n",
    "\n",
    "  def forward(self, x):\n",
    "    x = self.conv_block1(x)\n",
    "    x = self.conv_block2(x)\n",
    "    x = self.conv_block3(x)\n",
    "    x = self.conv_block4(x)\n",
    "\n",
    "    x = torch.flatten(x, 1)\n",
    "\n",
    "    x = self.fc_layers(x)\n",
    "\n",
    "    return x\n"
   ]
  },
  {
   "cell_type": "code",
   "execution_count": 43,
   "id": "abecd5a8",
   "metadata": {},
   "outputs": [
    {
     "name": "stdout",
     "output_type": "stream",
     "text": [
      "the full architecture parameters size: 131072\n"
     ]
    }
   ],
   "source": [
    "CNN_model = CNNModel(num_classes=len(CLASSES)).to(device)\n",
    "# print(CNN_model)"
   ]
  },
  {
   "cell_type": "markdown",
   "id": "1799946c",
   "metadata": {},
   "source": [
    "## Training the model"
   ]
  },
  {
   "cell_type": "markdown",
   "id": "e44353fb",
   "metadata": {},
   "source": [
    "### defining Loss function, Optimization method, and training parameters"
   ]
  },
  {
   "cell_type": "code",
   "execution_count": 44,
   "id": "f343ef2c",
   "metadata": {},
   "outputs": [],
   "source": [
    "loss_fn = nn.CrossEntropyLoss()\n",
    "weights_decay = 0.0001\n",
    "learning_rate = 0.001\n",
    "epochs = 8\n",
    "\n",
    "optimizer = torch.optim.Adam(\n",
    "    CNN_model.parameters(),\n",
    "    lr=learning_rate,\n",
    "    weight_decay=weights_decay\n",
    ")"
   ]
  },
  {
   "cell_type": "code",
   "execution_count": 45,
   "id": "0a02b171",
   "metadata": {},
   "outputs": [
    {
     "name": "stdout",
     "output_type": "stream",
     "text": [
      "loss: 1.169774  [   16/ 4845]\n",
      "loss: 1.018796  [ 1616/ 4845]\n",
      "loss: 0.933703  [ 3216/ 4845]\n",
      "loss: 0.718921  [ 4816/ 4845]\n"
     ]
    }
   ],
   "source": [
    "from cancer_classifier.modeling.train import train\n",
    "# import evaluate from cancer_classifier.modeling.evaluate as evaluate\n",
    "def train_loop(dataloader, model, loss_fn, optimizer):\n",
    "    size = len(dataloader.dataset)\n",
    "    # Set the model to training mode - important for batch normalization and dropout layers\n",
    "    # Unnecessary in this situation but added for best practices\n",
    "    model.train()\n",
    "    for batch, (X, y) in enumerate(dataloader):\n",
    "        # Compute prediction and loss\n",
    "        pred = model(X)\n",
    "        loss = loss_fn(pred, y)\n",
    "\n",
    "        # Backpropagation\n",
    "        loss.backward()\n",
    "        optimizer.step()\n",
    "        optimizer.zero_grad()\n",
    "\n",
    "        if batch % 100 == 0:\n",
    "            loss, current = loss.item(), batch * batch_nbr + len(X)\n",
    "            print(f\"loss: {loss:>7f}  [{current:>5d}/{size:>5d}]\")\n",
    "\n",
    "train_loop(\n",
    "    dataloader=train_loader,\n",
    "    model=CNN_model,\n",
    "    loss_fn=loss_fn,\n",
    "    optimizer=optimizer\n",
    "    )\n"
   ]
  },
  {
   "cell_type": "code",
   "execution_count": 54,
   "id": "97ef640b",
   "metadata": {},
   "outputs": [
    {
     "name": "stdout",
     "output_type": "stream",
     "text": [
      "Test Error: \n",
      " Accuracy: 68.4%, Avg loss: 0.708059 \n",
      "\n"
     ]
    }
   ],
   "source": [
    "\n",
    "def test_loop(dataloader, model, loss_fn):\n",
    "    # Set the model to evaluation mode - important for batch normalization and dropout layers\n",
    "    # Unnecessary in this situation but added for best practices\n",
    "    model.eval()\n",
    "    size = len(dataloader.dataset)\n",
    "    num_batches = len(dataloader)\n",
    "    test_loss, correct = 0, 0\n",
    "\n",
    "    # Evaluating the model with torch.no_grad() ensures that no gradients are computed during test mode\n",
    "    # also serves to reduce unnecessary gradient computations and memory usage for tensors with requires_grad=True\n",
    "    with torch.no_grad():\n",
    "        for X, y in dataloader:\n",
    "            pred = model(X)\n",
    "            test_loss += loss_fn(pred, y).item()\n",
    "            correct += (pred.argmax(1) == y).type(torch.float).sum().item()\n",
    "\n",
    "    test_loss /= num_batches\n",
    "    correct /= size\n",
    "    print(f\"Test Error: \\n Accuracy: {(100*correct):>0.1f}%, Avg loss: {test_loss:>8f} \\n\")\n",
    "test_loop(\n",
    "    dataloader=test_loader,\n",
    "    model=CNN_model,\n",
    "    loss_fn=loss_fn\n",
    ")\n",
    "# train(\n",
    "#     model=CNN_model,\n",
    "#     train_loader=train_loader,\n",
    "#     val_loader=val_loader,\n",
    "#     test_loader=test_loader,\n",
    "#     loss_fn=loss_fn,\n",
    "#     optimizer=optimizer,\n",
    "#     epochs=epochs,\n",
    "#     device=device\n",
    "# )"
   ]
  },
  {
   "cell_type": "markdown",
   "id": "27bcb7b4",
   "metadata": {},
   "source": [
    "## Evaluating the model"
   ]
  },
  {
   "cell_type": "markdown",
   "id": "e81f7ed4",
   "metadata": {},
   "source": [
    "### serializing the model"
   ]
  },
  {
   "cell_type": "code",
   "execution_count": 53,
   "id": "c8ee692c",
   "metadata": {},
   "outputs": [
    {
     "name": "stdout",
     "output_type": "stream",
     "text": [
      "Saved PyTorch Model State to 2025-05-14_22-45-18_CNN_model.pth\n"
     ]
    }
   ],
   "source": [
    "import time\n",
    "model_name = time.strftime(\"%Y-%m-%d_%H-%M-%S\") + \"_CNN_model.pth\"\n",
    "torch.save(CNN_model.state_dict(), MODELS_DIR / model_name)\n",
    "print(\"Saved PyTorch Model State to \" +  model_name)"
   ]
  }
 ],
 "metadata": {
  "kernelspec": {
   "display_name": "base",
   "language": "python",
   "name": "python3"
  },
  "language_info": {
   "codemirror_mode": {
    "name": "ipython",
    "version": 3
   },
   "file_extension": ".py",
   "mimetype": "text/x-python",
   "name": "python",
   "nbconvert_exporter": "python",
   "pygments_lexer": "ipython3",
   "version": "3.11.11"
  }
 },
 "nbformat": 4,
 "nbformat_minor": 5
}
